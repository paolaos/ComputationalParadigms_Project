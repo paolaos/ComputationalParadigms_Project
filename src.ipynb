{
 "cells": [
  {
   "cell_type": "code",
   "execution_count": 20,
   "metadata": {
    "collapsed": true
   },
   "outputs": [],
   "source": [
    "import pandas as pd\n",
    "from sklearn.impute import SimpleImputer # imputer used during preprocessing\n",
    "from sklearn.model_selection import train_test_split # split the training data into train and test sets"
   ]
  },
  {
   "cell_type": "code",
   "execution_count": 21,
   "metadata": {},
   "outputs": [],
   "source": [
    "### Part 1: importing and preprocessing data\n",
    "\n",
    "# 1.1 Import dataset, create a copy\n",
    "\n",
    "desharnais_data_set = pd.read_csv(\"desharnais.csv\")\n",
    "\n",
    "# 1.2 Delete \"length\" since original author does not work with it\n",
    "\n",
    "altered_data_set = desharnais_data_set.drop(\"Length\", axis=1) \n",
    "\n",
    "def impute_values(column_name, dataset_file):\n",
    "    imputer = SimpleImputer(strategy='most_frequent', missing_values=-1)\n",
    "    imputer = imputer.fit(dataset_file[[column_name]])\n",
    "    dataset_file[column_name] = imputer.transform(dataset_file[[column_name]]).ravel() \n"
   ]
  },
  {
   "cell_type": "code",
   "execution_count": 22,
   "metadata": {},
   "outputs": [],
   "source": [
    "# 1.4 Value imputation through simple imputers on TeamExp and ManagerExp\n",
    "impute_values('TeamExp', altered_data_set)\n",
    "impute_values('ManagerExp', altered_data_set)\n",
    "\n",
    "# Part 2.1: separate 'Effort' from the rest of the columns\n",
    "effort_column = altered_data_set['Effort']\n",
    "training_set = altered_data_set.drop(columns='Effort')\n",
    "\n",
    "# Part 2.2: create partition, shuffling first\n",
    "x_train, x_query, y_train, y_query = \\\n",
    "    train_test_split(training_set, effort_column, shuffle=True, \n",
    "                     train_size=0.7777777778)\n",
    "\n"
   ]
  },
  {
   "cell_type": "code",
   "execution_count": null,
   "metadata": {},
   "outputs": [],
   "source": []
  }
 ],
 "metadata": {
  "kernelspec": {
   "display_name": "Python 2",
   "language": "python",
   "name": "python2"
  },
  "language_info": {
   "codemirror_mode": {
    "name": "ipython",
    "version": 2
   },
   "file_extension": ".py",
   "mimetype": "text/x-python",
   "name": "python",
   "nbconvert_exporter": "python",
   "pygments_lexer": "ipython2",
   "version": "2.7.6"
  }
 },
 "nbformat": 4,
 "nbformat_minor": 0
}
